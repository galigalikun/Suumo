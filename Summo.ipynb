{
 "cells": [
  {
   "cell_type": "code",
   "execution_count": 32,
   "metadata": {},
   "outputs": [],
   "source": [
    "library(ggplot2)\n",
    "library(dplyr)\n",
    "library(maptools)\n",
    "library(randomForest)\n",
    "library(ggrepel)\n",
    "library(psych)"
   ]
  },
  {
   "cell_type": "code",
   "execution_count": 11,
   "metadata": {},
   "outputs": [],
   "source": [
    "df <- read.csv(\"suumo_tokyo1.csv\", fileEncoding = \"UTF-16\", sep = \"\\t\") #前処理したデータを読み込み\n",
    "names(df) <- c(\"index\", \"name\",\"address\",\"ward\",\"city\",\"rooms\",\"DK\",\"K\",\"L\",\"S\",\"age\",\"height\",\"order\",\"area\",\"rent_adm\",\n",
    "              \"initial_cost\",\"route1\",\"station1\",\"distance1\",\"route2\",\"station2\",\"distance2\",\"route3\",\"station3\",\"distance3\",\n",
    "              \"rent\",\"administration\",\"deposit\",\"gratuity\") #英語でカラム名付け替え"
   ]
  },
  {
   "cell_type": "code",
   "execution_count": 12,
   "metadata": {},
   "outputs": [],
   "source": [
    "#factorに変換\n",
    "df$DK <- as.factor(df$DK)\n",
    "df$K <- as.factor(df$K)\n",
    "df$L <- as.factor(df$L)\n",
    "df$S <- as.factor(df$S)\n",
    "\n",
    "#べき乗で表示されないように\n",
    "options(scipen=100)"
   ]
  },
  {
   "cell_type": "code",
   "execution_count": 36,
   "metadata": {},
   "outputs": [
    {
     "data": {
      "text/html": [
       "<style>\n",
       ".list-inline {list-style: none; margin:0; padding: 0}\n",
       ".list-inline>li {display: inline-block}\n",
       ".list-inline>li:not(:last-child)::after {content: \"\\00b7\"; padding: 0 .5ex}\n",
       "</style>\n",
       "<ol class=list-inline><li>58.6</li><li>211.3</li><li>191.7</li><li>143</li><li>210.3</li><li>261.7</li><li>219.9</li><li>244</li><li>271.5</li><li>280.6</li><li>341.3</li><li>452.8</li><li>501.5</li><li>378.1</li><li>321.7</li><li>334.2</li><li>686.4</li><li>678.6</li><li>712.1</li><li>550.8</li></ol>\n"
      ],
      "text/latex": [
       "\\begin{enumerate*}\n",
       "\\item 58.6\n",
       "\\item 211.3\n",
       "\\item 191.7\n",
       "\\item 143\n",
       "\\item 210.3\n",
       "\\item 261.7\n",
       "\\item 219.9\n",
       "\\item 244\n",
       "\\item 271.5\n",
       "\\item 280.6\n",
       "\\item 341.3\n",
       "\\item 452.8\n",
       "\\item 501.5\n",
       "\\item 378.1\n",
       "\\item 321.7\n",
       "\\item 334.2\n",
       "\\item 686.4\n",
       "\\item 678.6\n",
       "\\item 712.1\n",
       "\\item 550.8\n",
       "\\end{enumerate*}\n"
      ],
      "text/markdown": [
       "1. 58.6\n",
       "2. 211.3\n",
       "3. 191.7\n",
       "4. 143\n",
       "5. 210.3\n",
       "6. 261.7\n",
       "7. 219.9\n",
       "8. 244\n",
       "9. 271.5\n",
       "10. 280.6\n",
       "11. 341.3\n",
       "12. 452.8\n",
       "13. 501.5\n",
       "14. 378.1\n",
       "15. 321.7\n",
       "16. 334.2\n",
       "17. 686.4\n",
       "18. 678.6\n",
       "19. 712.1\n",
       "20. 550.8\n",
       "\n",
       "\n"
      ],
      "text/plain": [
       " [1]  58.6 211.3 191.7 143.0 210.3 261.7 219.9 244.0 271.5 280.6 341.3 452.8\n",
       "[13] 501.5 378.1 321.7 334.2 686.4 678.6 712.1 550.8"
      ]
     },
     "metadata": {},
     "output_type": "display_data"
    }
   ],
   "source": [
    "df1 <- df %>%\n",
    "  select(ward) %>%\n",
    "  group_by(ward) %>%\n",
    "  tally() %>%\n",
    "  arrange((n))\n",
    "\n",
    "df1$ward <- as.character(df1$ward)\n",
    "df1$ward <- factor(df1$ward, levels=unique(df1$ward))\n",
    "\n",
    "# df1$pop <- c(58.6,211.3,191.7,143.0,210.3,261.7,219.9,244.0,271.5,280.6,\n",
    "#              341.3,452.8,501.5,378.1,321.7,334.2,686.4,678.6,712.1,550.8)\n",
    "\n",
    "# ggplot(df1,aes(ward,n)) +\n",
    "#   geom_bar(stat=\"identity\")+\n",
    "#   ggtitle(\"区別物件数\")+xlab(\"\")+ylab(\"物件数\")+ \n",
    "#   theme(axis.text.x = element_text(angle = 180, hjust =1))+\n",
    "#   theme_bw(base_family = \"HiraKakuProN-W3\") +\n",
    "#   coord_flip() +\n",
    "#   ylim(0,25000) + scale_y_continuous(labels = scales::comma)\n",
    "\n",
    "\n",
    "c(58.6,211.3,191.7,143.0,210.3,261.7,219.9,244.0,271.5,280.6,\n",
    "             341.3,452.8,501.5,378.1,321.7,334.2,686.4,678.6,712.1,550.8)"
   ]
  },
  {
   "cell_type": "code",
   "execution_count": null,
   "metadata": {},
   "outputs": [],
   "source": []
  }
 ],
 "metadata": {
  "kernelspec": {
   "display_name": "R",
   "language": "R",
   "name": "ir"
  },
  "language_info": {
   "codemirror_mode": "r",
   "file_extension": ".r",
   "mimetype": "text/x-r-source",
   "name": "R",
   "pygments_lexer": "r",
   "version": "4.0.3"
  }
 },
 "nbformat": 4,
 "nbformat_minor": 4
}
